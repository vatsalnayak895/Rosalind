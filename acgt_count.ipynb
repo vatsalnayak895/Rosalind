{
 "cells": [
  {
   "cell_type": "code",
   "execution_count": 3,
   "metadata": {
    "collapsed": true
   },
   "outputs": [],
   "source": [
    "l=\"TCTTAAATCGGGGTCACGCTTGAGACAGCATGCGATCGCCCCGTGATGAATGGCATGTTTCTACGGGCTTTACAAGCGAACCCCGTACTGTGGGTCACAGGATAGATAGCAGTGAGGTTGCTTTTCAGGTTTGGGCTCACTAGGCGGTCGTATTTGGTCGCTAACCTCGGACTCTTGGTCTTTGATAACTGGCGGACTACACGCCCCAAATCCAGACTACTGGAGCTCGTCGGCTATCCTACTGAACGTATCGCACCGGCATCATTTACAACTCTGTTGTGATACTGTGTTCTGTATATAGGACTAACGTGCCTATCCGACAATGATGAGGAGTCGCGATGCAACGTGAATTTTAATTACGTACATACATTGAGGGATATGGGTATAGCTCGAGGAGCAACACGGAGATCTCAACAGTGTAGCCAAGCTGAAACACTTTTGTACGAATTCATTTATACCTCGAGGTCTAGGCTCTTGTACCGCGTCCGTCCTCGATGTTTGCACACCGGATTTTACCCCCCGGGCAACGGTAGCAAAGAGTTTCATTAAGGGTTCCGTGGGAATAATGGCCGGATAAGGAGTGTGACTGCGATGAGATGACTGTGGTGACGACCAAAGCCGCCGTCACGATAAATGATTAAAGTATTGCTATAAGCGATGCTAGACTCGACGCTCGACACTAGTGGGGGTAGGGAAGAAGCGAATCTAATCGATTTCATTGCATCTTCAGGTGATCCATGATTAAAAAGTAGAGGGGCGACTTAGGGTCTTACGGGGAGACCATATCGTGAGAGAAAGGGGTTCACATG\""
   ]
  },
  {
   "cell_type": "code",
   "execution_count": 4,
   "metadata": {},
   "outputs": [
    {
     "data": {
      "text/plain": [
       "['TCTTAAATCGGGGTCACGCTTGAGACAGCATGCGATCGCCCCGTGATGAATGGCATGTTTCTACGGGCTTTACAAGCGAACCCCGTACTGTGGGTCACAGGATAGATAGCAGTGAGGTTGCTTTTCAGGTTTGGGCTCACTAGGCGGTCGTATTTGGTCGCTAACCTCGGACTCTTGGTCTTTGATAACTGGCGGACTACACGCCCCAAATCCAGACTACTGGAGCTCGTCGGCTATCCTACTGAACGTATCGCACCGGCATCATTTACAACTCTGTTGTGATACTGTGTTCTGTATATAGGACTAACGTGCCTATCCGACAATGATGAGGAGTCGCGATGCAACGTGAATTTTAATTACGTACATACATTGAGGGATATGGGTATAGCTCGAGGAGCAACACGGAGATCTCAACAGTGTAGCCAAGCTGAAACACTTTTGTACGAATTCATTTATACCTCGAGGTCTAGGCTCTTGTACCGCGTCCGTCCTCGATGTTTGCACACCGGATTTTACCCCCCGGGCAACGGTAGCAAAGAGTTTCATTAAGGGTTCCGTGGGAATAATGGCCGGATAAGGAGTGTGACTGCGATGAGATGACTGTGGTGACGACCAAAGCCGCCGTCACGATAAATGATTAAAGTATTGCTATAAGCGATGCTAGACTCGACGCTCGACACTAGTGGGGGTAGGGAAGAAGCGAATCTAATCGATTTCATTGCATCTTCAGGTGATCCATGATTAAAAAGTAGAGGGGCGACTTAGGGTCTTACGGGGAGACCATATCGTGAGAGAAAGGGGTTCACATG']"
      ]
     },
     "execution_count": 4,
     "metadata": {},
     "output_type": "execute_result"
    }
   ],
   "source": [
    "list(l.split(\" \"))"
   ]
  },
  {
   "cell_type": "code",
   "execution_count": 17,
   "metadata": {},
   "outputs": [],
   "source": [
    "#[i.split() for n in l for i in n]"
   ]
  },
  {
   "cell_type": "code",
   "execution_count": 18,
   "metadata": {},
   "outputs": [
    {
     "name": "stdout",
     "output_type": "stream",
     "text": [
      "['T', 'C', 'T', 'T', 'A', 'A', 'A', 'T', 'C', 'G', 'G', 'G', 'G', 'T', 'C', 'A', 'C', 'G', 'C', 'T', 'T', 'G', 'A', 'G', 'A', 'C', 'A', 'G', 'C', 'A', 'T', 'G', 'C', 'G', 'A', 'T', 'C', 'G', 'C', 'C', 'C', 'C', 'G', 'T', 'G', 'A', 'T', 'G', 'A', 'A', 'T', 'G', 'G', 'C', 'A', 'T', 'G', 'T', 'T', 'T', 'C', 'T', 'A', 'C', 'G', 'G', 'G', 'C', 'T', 'T', 'T', 'A', 'C', 'A', 'A', 'G', 'C', 'G', 'A', 'A', 'C', 'C', 'C', 'C', 'G', 'T', 'A', 'C', 'T', 'G', 'T', 'G', 'G', 'G', 'T', 'C', 'A', 'C', 'A', 'G', 'G', 'A', 'T', 'A', 'G', 'A', 'T', 'A', 'G', 'C', 'A', 'G', 'T', 'G', 'A', 'G', 'G', 'T', 'T', 'G', 'C', 'T', 'T', 'T', 'T', 'C', 'A', 'G', 'G', 'T', 'T', 'T', 'G', 'G', 'G', 'C', 'T', 'C', 'A', 'C', 'T', 'A', 'G', 'G', 'C', 'G', 'G', 'T', 'C', 'G', 'T', 'A', 'T', 'T', 'T', 'G', 'G', 'T', 'C', 'G', 'C', 'T', 'A', 'A', 'C', 'C', 'T', 'C', 'G', 'G', 'A', 'C', 'T', 'C', 'T', 'T', 'G', 'G', 'T', 'C', 'T', 'T', 'T', 'G', 'A', 'T', 'A', 'A', 'C', 'T', 'G', 'G', 'C', 'G', 'G', 'A', 'C', 'T', 'A', 'C', 'A', 'C', 'G', 'C', 'C', 'C', 'C', 'A', 'A', 'A', 'T', 'C', 'C', 'A', 'G', 'A', 'C', 'T', 'A', 'C', 'T', 'G', 'G', 'A', 'G', 'C', 'T', 'C', 'G', 'T', 'C', 'G', 'G', 'C', 'T', 'A', 'T', 'C', 'C', 'T', 'A', 'C', 'T', 'G', 'A', 'A', 'C', 'G', 'T', 'A', 'T', 'C', 'G', 'C', 'A', 'C', 'C', 'G', 'G', 'C', 'A', 'T', 'C', 'A', 'T', 'T', 'T', 'A', 'C', 'A', 'A', 'C', 'T', 'C', 'T', 'G', 'T', 'T', 'G', 'T', 'G', 'A', 'T', 'A', 'C', 'T', 'G', 'T', 'G', 'T', 'T', 'C', 'T', 'G', 'T', 'A', 'T', 'A', 'T', 'A', 'G', 'G', 'A', 'C', 'T', 'A', 'A', 'C', 'G', 'T', 'G', 'C', 'C', 'T', 'A', 'T', 'C', 'C', 'G', 'A', 'C', 'A', 'A', 'T', 'G', 'A', 'T', 'G', 'A', 'G', 'G', 'A', 'G', 'T', 'C', 'G', 'C', 'G', 'A', 'T', 'G', 'C', 'A', 'A', 'C', 'G', 'T', 'G', 'A', 'A', 'T', 'T', 'T', 'T', 'A', 'A', 'T', 'T', 'A', 'C', 'G', 'T', 'A', 'C', 'A', 'T', 'A', 'C', 'A', 'T', 'T', 'G', 'A', 'G', 'G', 'G', 'A', 'T', 'A', 'T', 'G', 'G', 'G', 'T', 'A', 'T', 'A', 'G', 'C', 'T', 'C', 'G', 'A', 'G', 'G', 'A', 'G', 'C', 'A', 'A', 'C', 'A', 'C', 'G', 'G', 'A', 'G', 'A', 'T', 'C', 'T', 'C', 'A', 'A', 'C', 'A', 'G', 'T', 'G', 'T', 'A', 'G', 'C', 'C', 'A', 'A', 'G', 'C', 'T', 'G', 'A', 'A', 'A', 'C', 'A', 'C', 'T', 'T', 'T', 'T', 'G', 'T', 'A', 'C', 'G', 'A', 'A', 'T', 'T', 'C', 'A', 'T', 'T', 'T', 'A', 'T', 'A', 'C', 'C', 'T', 'C', 'G', 'A', 'G', 'G', 'T', 'C', 'T', 'A', 'G', 'G', 'C', 'T', 'C', 'T', 'T', 'G', 'T', 'A', 'C', 'C', 'G', 'C', 'G', 'T', 'C', 'C', 'G', 'T', 'C', 'C', 'T', 'C', 'G', 'A', 'T', 'G', 'T', 'T', 'T', 'G', 'C', 'A', 'C', 'A', 'C', 'C', 'G', 'G', 'A', 'T', 'T', 'T', 'T', 'A', 'C', 'C', 'C', 'C', 'C', 'C', 'G', 'G', 'G', 'C', 'A', 'A', 'C', 'G', 'G', 'T', 'A', 'G', 'C', 'A', 'A', 'A', 'G', 'A', 'G', 'T', 'T', 'T', 'C', 'A', 'T', 'T', 'A', 'A', 'G', 'G', 'G', 'T', 'T', 'C', 'C', 'G', 'T', 'G', 'G', 'G', 'A', 'A', 'T', 'A', 'A', 'T', 'G', 'G', 'C', 'C', 'G', 'G', 'A', 'T', 'A', 'A', 'G', 'G', 'A', 'G', 'T', 'G', 'T', 'G', 'A', 'C', 'T', 'G', 'C', 'G', 'A', 'T', 'G', 'A', 'G', 'A', 'T', 'G', 'A', 'C', 'T', 'G', 'T', 'G', 'G', 'T', 'G', 'A', 'C', 'G', 'A', 'C', 'C', 'A', 'A', 'A', 'G', 'C', 'C', 'G', 'C', 'C', 'G', 'T', 'C', 'A', 'C', 'G', 'A', 'T', 'A', 'A', 'A', 'T', 'G', 'A', 'T', 'T', 'A', 'A', 'A', 'G', 'T', 'A', 'T', 'T', 'G', 'C', 'T', 'A', 'T', 'A', 'A', 'G', 'C', 'G', 'A', 'T', 'G', 'C', 'T', 'A', 'G', 'A', 'C', 'T', 'C', 'G', 'A', 'C', 'G', 'C', 'T', 'C', 'G', 'A', 'C', 'A', 'C', 'T', 'A', 'G', 'T', 'G', 'G', 'G', 'G', 'G', 'T', 'A', 'G', 'G', 'G', 'A', 'A', 'G', 'A', 'A', 'G', 'C', 'G', 'A', 'A', 'T', 'C', 'T', 'A', 'A', 'T', 'C', 'G', 'A', 'T', 'T', 'T', 'C', 'A', 'T', 'T', 'G', 'C', 'A', 'T', 'C', 'T', 'T', 'C', 'A', 'G', 'G', 'T', 'G', 'A', 'T', 'C', 'C', 'A', 'T', 'G', 'A', 'T', 'T', 'A', 'A', 'A', 'A', 'A', 'G', 'T', 'A', 'G', 'A', 'G', 'G', 'G', 'G', 'C', 'G', 'A', 'C', 'T', 'T', 'A', 'G', 'G', 'G', 'T', 'C', 'T', 'T', 'A', 'C', 'G', 'G', 'G', 'G', 'A', 'G', 'A', 'C', 'C', 'A', 'T', 'A', 'T', 'C', 'G', 'T', 'G', 'A', 'G', 'A', 'G', 'A', 'A', 'A', 'G', 'G', 'G', 'G', 'T', 'T', 'C', 'A', 'C', 'A', 'T', 'G']\n"
     ]
    }
   ],
   "source": [
    "l=list(map(str,l))\n",
    "print(l)"
   ]
  },
  {
   "cell_type": "code",
   "execution_count": 19,
   "metadata": {},
   "outputs": [
    {
     "data": {
      "text/plain": [
       "809"
      ]
     },
     "execution_count": 19,
     "metadata": {},
     "output_type": "execute_result"
    }
   ],
   "source": [
    "len(l)"
   ]
  },
  {
   "cell_type": "code",
   "execution_count": 22,
   "metadata": {
    "collapsed": true
   },
   "outputs": [],
   "source": [
    "b=dict([(\"A\",0),(\"C\",0),(\"G\",0),(\"T\",0)])"
   ]
  },
  {
   "cell_type": "code",
   "execution_count": 23,
   "metadata": {},
   "outputs": [
    {
     "name": "stdout",
     "output_type": "stream",
     "text": [
      "{'A': 207, 'C': 175, 'G': 219, 'T': 208}\n",
      "207 175 219 208\n",
      "809\n"
     ]
    },
    {
     "data": {
      "text/plain": [
       "'for i in l:\\n    a[i]=(count+1)\\nprint(a)'"
      ]
     },
     "execution_count": 23,
     "metadata": {},
     "output_type": "execute_result"
    }
   ],
   "source": [
    "a={}\n",
    "x=[]\n",
    "count=0\n",
    "for i in l:\n",
    "    b[i]=l.count(i)\n",
    "for keys ,values in b.items():\n",
    "    x.append(values)\n",
    "print(b)\n",
    "print(*x)\n",
    "print(sum(x))\n",
    "'''for i in l:\n",
    "    a[i]=(count+1)\n",
    "print(a)'''"
   ]
  },
  {
   "cell_type": "code",
   "execution_count": 21,
   "metadata": {
    "collapsed": true
   },
   "outputs": [],
   "source": [
    "\n",
    "\n",
    "    "
   ]
  }
 ],
 "metadata": {
  "kernelspec": {
   "display_name": "Python 3",
   "language": "python",
   "name": "python3"
  },
  "language_info": {
   "codemirror_mode": {
    "name": "ipython",
    "version": 3
   },
   "file_extension": ".py",
   "mimetype": "text/x-python",
   "name": "python",
   "nbconvert_exporter": "python",
   "pygments_lexer": "ipython3",
   "version": "3.6.1"
  }
 },
 "nbformat": 4,
 "nbformat_minor": 2
}
